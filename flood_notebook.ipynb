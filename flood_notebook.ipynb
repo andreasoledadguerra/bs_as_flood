{
 "cells": [
  {
   "cell_type": "code",
   "execution_count": 1,
   "id": "32e2c96d",
   "metadata": {},
   "outputs": [],
   "source": [
    "import rasterio\n",
    "from rasterio.plot import show\n",
    "import matplotlib.pyplot as plt\n",
    "import numpy as np"
   ]
  },
  {
   "cell_type": "code",
   "execution_count": null,
   "id": "098eb585",
   "metadata": {},
   "outputs": [],
   "source": [
    "# Exploring data from 'bsas.tif'\n",
    "\n",
    "with rasterio.open('bsas.tif') as src:\n",
    "    data = src.read(1, masked=True)\n",
    "\n",
    "plt.figure(figsize=(10,8))\n",
    "plt.imshow(data, cmap= 'summer')\n",
    "plt.colorbar(label='Elevación (m)')\n",
    "plt.title(\"Modelo de Elevación digital\")\n",
    "plt.show()"
   ]
  }
 ],
 "metadata": {
  "kernelspec": {
   "display_name": "env",
   "language": "python",
   "name": "python3"
  },
  "language_info": {
   "codemirror_mode": {
    "name": "ipython",
    "version": 3
   },
   "file_extension": ".py",
   "mimetype": "text/x-python",
   "name": "python",
   "nbconvert_exporter": "python",
   "pygments_lexer": "ipython3",
   "version": "3.10.12"
  }
 },
 "nbformat": 4,
 "nbformat_minor": 5
}
